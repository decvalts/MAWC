{
 "cells": [
  {
   "cell_type": "markdown",
   "metadata": {},
   "source": [
    "# Recursion\n",
    "\n",
    "Recursion allows a function or routine to be defined in terms of smaller, _recurring_ instances of itself. Recursive algorithms in computing are implemented as functions that call themselves at some stage during their execution. Each successive call of the function executes a more refined set of arguments or input parameters, bringing us closer and closer to a solution of a computable problem. \n",
    "\n",
    "### Basic Recursion\n",
    "\n",
    "The principle that allows a problem to be defined in terms of smaller and smaller instances of itself. This is implemented in programs with _recursive functions_ - functions that calling themselves until a condition is met (if it is ever met!)\n",
    "\n",
    "### Tail Recursion\n",
    "\n",
    "A form of recursion usually implemented by optimising compilers. Compilers are able to recognise tail recursion in code written by the programmer and optimise it to be a recursive function.\n",
    "\n",
    "## Basic Recursion\n",
    "\n",
    "Compiuting the factorial of a number is a classic example of a potentially recursive algorithm. The factorial of a number _n_ is the product of all the positive integers less than and equal to _n_. So **4!** is 4 x 3 x 2 x 1 = **24**. \n",
    "\n",
    "More formally, this can be written as:\n",
    "\n",
    "n! = (n)(n-1)(n-2)...(1)\n",
    "\n",
    "Another way to look at this is to define n! as the product of smaller factorials. In this way, we can define n! as the product of _n_ and the factorial (_n_-1)!. We can then think of (n-1)! as the product of (n-1) and (n-2)!, and so on, whereby we now have a _recursive_ function. \n",
    "\n",
    "Recursive algorithms have a _winding_ and _unwinding_ phase. In the winding phase, each call to the function makes an additional call to itself, until one of these calls reaches a _terminating condition_. The terminating condition decides when a function should return instead of calling itself again, without returning. In computing the factorial of n, the terminating conditions are n=1 and n=0, where the function would simply return 1. All recursive functions must have at least one terminating condition, otherwise the function would never terminate!\n",
    "\n",
    "Once the winding phase is complete, the unwinding phase begins, where previous instances of the function are revisited in reverse order. This unwinding phase continues until the original function call returns. \n",
    "\n",
    "### Example 1: Compute a factorial recursively\n",
    "\n",
    "\n"
   ]
  },
  {
   "cell_type": "code",
   "execution_count": 1,
   "metadata": {
    "collapsed": true
   },
   "outputs": [],
   "source": [
    "def factorial(n):\n",
    "  \"\"\"Takes a number n, and calculates it's factorial using recursion\"\"\"\n",
    "  if n < 0:\n",
    "    return 0\n",
    "  elif n == 0 or n == 1:\n",
    "    return 1\n",
    "  else:\n",
    "    return n * factorial(n - 1)"
   ]
  },
  {
   "cell_type": "code",
   "execution_count": 2,
   "metadata": {
    "collapsed": false
   },
   "outputs": [
    {
     "data": {
      "text/plain": [
       "720"
      ]
     },
     "execution_count": 2,
     "metadata": {},
     "output_type": "execute_result"
    }
   ],
   "source": [
    "factorial(6)"
   ]
  },
  {
   "cell_type": "code",
   "execution_count": 3,
   "metadata": {
    "collapsed": false
   },
   "outputs": [
    {
     "data": {
      "text/plain": [
       "24"
      ]
     },
     "execution_count": 3,
     "metadata": {},
     "output_type": "execute_result"
    }
   ],
   "source": [
    "factorial(4)"
   ]
  },
  {
   "cell_type": "markdown",
   "metadata": {},
   "source": [
    "...and so on.\n",
    "\n",
    "We can visualise what is happening here with the python package `rcviz` and adding a decorator to the recursive function."
   ]
  },
  {
   "cell_type": "code",
   "execution_count": null,
   "metadata": {
    "collapsed": false
   },
   "outputs": [],
   "source": [
    "from rcviz import callgraph, viz\n",
    "\n",
    "@viz\n",
    "def factorial(n):\n",
    "  \"\"\"Takes a number n, and calculates it's factorial using recursion\"\"\"\n",
    "  if n < 0:\n",
    "    return 0\n",
    "  elif n == 0 or n == 1:\n",
    "    return 1\n",
    "  else:\n",
    "    return n * factorial(n - 1)\n",
    "\n",
    "factorial(3)\n",
    "callgraph.render(\"factorial.png\")"
   ]
  },
  {
   "cell_type": "code",
   "execution_count": null,
   "metadata": {
    "collapsed": true
   },
   "outputs": [],
   "source": []
  }
 ],
 "metadata": {
  "kernelspec": {
   "display_name": "Python 2",
   "language": "python",
   "name": "python2"
  },
  "language_info": {
   "codemirror_mode": {
    "name": "ipython",
    "version": 2
   },
   "file_extension": ".py",
   "mimetype": "text/x-python",
   "name": "python",
   "nbconvert_exporter": "python",
   "pygments_lexer": "ipython2",
   "version": "2.7.13"
  }
 },
 "nbformat": 4,
 "nbformat_minor": 2
}
