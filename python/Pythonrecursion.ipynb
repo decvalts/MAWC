{
 "cells": [
  {
   "cell_type": "markdown",
   "metadata": {},
   "source": [
    "# Recursion\n",
    "\n",
    "Recursion allows a function or routine to be defined in terms of smaller, _recurring_ instances of itself. Recursive algorithms in computing are implemented as functions that call themselves at some stage during their execution. Each successive call of the function executes a more refined set of arguments or input parameters, bringing us closer and closer to a solution of a computable problem. \n",
    "\n",
    "### Basic Recursion\n",
    "\n",
    "The principle that allows a problem to be defined in terms of smaller and smaller instances of itself. This is implemented in programs with _recursive functions_ - functions that calling themselves until a condition is met (if it is ever met!)\n",
    "\n",
    "### Tail Recursion\n",
    "\n",
    "A form of recursion usually implemented by optimising compilers. Compilers are able to recognise tail recursion in code written by the programmer and optimise it to be a recursive function.\n",
    "\n",
    "## Basic Recursion\n",
    "\n",
    "Compiuting the factorial of a number is a classic example of a potentially recursive algorithm. The factorial of a number _n_ is the product of all the positive integers less than and equal to _n_. So **4!** is 4 x 3 x 2 x 1 = **24**. \n",
    "\n",
    "More formally, this can be written as:\n",
    "\n",
    "n! = (n)(n-1)(n-2)...(1)\n",
    "\n",
    "Another way to look at this is to define n! as the product of smaller factorials. In this way, we can define n! as the product of _n_ and the factorial (_n_-1)!. We can then think of (n-1)! as the product of (n-1) and (n-2)!, and so on, whereby we now have a _recursive_ function. \n",
    "\n",
    "Recursive algorithms have a _winding_ and _unwinding_ phase. In the winding phase, each call to the function makes an additional call to itself, until one of these calls reaches a _terminating condition_. The terminating condition decides when a function should return instead of calling itself again, without returning. In computing the factorial of n, the terminating conditions are n=1 and n=0, where the function would simply return 1. All recursive functions must have at least one terminating condition, otherwise the function would never terminate!\n",
    "\n",
    "Once the winding phase is complete, the unwinding phase begins, where previous instances of the function are revisited in reverse order. This unwinding phase continues until the original function call returns. \n",
    "\n",
    "### Example 1: Compute a factorial recursively\n",
    "\n",
    "\n"
   ]
  },
  {
   "cell_type": "code",
   "execution_count": 2,
   "metadata": {
    "collapsed": true
   },
   "outputs": [],
   "source": [
    "def factorial(n):\n",
    "  \"\"\"Takes a number n, and calculates it's factorial using recursion\"\"\"\n",
    "  if n < 0:\n",
    "    return 0\n",
    "  elif n == 0 or n == 1:\n",
    "    return 1\n",
    "  else:\n",
    "    return n * factorial(n - 1)"
   ]
  },
  {
   "cell_type": "code",
   "execution_count": 2,
   "metadata": {
    "collapsed": false
   },
   "outputs": [
    {
     "data": {
      "text/plain": [
       "720"
      ]
     },
     "execution_count": 2,
     "metadata": {},
     "output_type": "execute_result"
    }
   ],
   "source": [
    "factorial(6)"
   ]
  },
  {
   "cell_type": "code",
   "execution_count": 3,
   "metadata": {
    "collapsed": false
   },
   "outputs": [
    {
     "data": {
      "text/plain": [
       "24"
      ]
     },
     "execution_count": 3,
     "metadata": {},
     "output_type": "execute_result"
    }
   ],
   "source": [
    "factorial(4)"
   ]
  },
  {
   "cell_type": "markdown",
   "metadata": {},
   "source": [
    "...and so on.\n",
    "\n",
    "We can visualise what is happening here with the python package `rcviz` and adding a decorator to the recursive function.\n",
    "\n",
    "_**Note**: due to limitations of the rcviz package, this will not correctly process within the notebook, so I have inserted the code statically and included the resulting image produced from running it in the terminal._"
   ]
  },
  {
   "cell_type": "code",
   "execution_count": null,
   "metadata": {
    "collapsed": false
   },
   "outputs": [],
   "source": [
    "from rcviz import callgraph, viz\n",
    "\n",
    "@viz\n",
    "def factorial(n):\n",
    "  \"\"\"Takes a number n, and calculates it's factorial using recursion\"\"\"\n",
    "  if n < 0:\n",
    "    return 0\n",
    "  elif n == 0 or n == 1:\n",
    "    return 1\n",
    "  else:\n",
    "    return n * factorial(n - 1)\n",
    "\n",
    "factorial(3)\n",
    "callgraph.render(\"factorial.png\")"
   ]
  },
  {
   "cell_type": "markdown",
   "metadata": {
    "collapsed": true
   },
   "source": [
    "![caption](factorial.png)"
   ]
  },
  {
   "cell_type": "markdown",
   "metadata": {},
   "source": [
    "The edges of the callgraph are numbered in order of traversal; with the colour coding being black edges first, grey edges last."
   ]
  },
  {
   "cell_type": "markdown",
   "metadata": {},
   "source": [
    "So what happens when `factorial(4)` is called? Since n is not a terminating condition (0 or 1) we get to the last `else` statement and execute the return. But this return also calls `factorial(n - 1)`, so the function is called again with n=3. This happens again until we get to n=1, where we will get a _terminating condition_ and return 1. The winding phase has now completed and we can pass back up the calling functions with our return values. When we have n=1, we can then evaluate the expression (n)\\*(n - 1)! in the previous call, which is (2)\\*(2-1)!, or just 2. This proceeds back up the graph letting us evaluate the return expressions in turn, each of which had another call to `factorial(n)` and was therefore waiting for return values from recursive function calls. Finally, we will have a return value for the first instance where we called the factorial function recursively, which is (4)\\*(6) = 24. All the functions have returned, and the recursive process is complete."
   ]
  },
  {
   "cell_type": "markdown",
   "metadata": {},
   "source": [
    "In practice however, this is not a particularly good way to solve a factorial. It takes up space in memory to maintian information about every function call until it returns, especially in programs with many recursive calls. If the overhead associated with recursive functions becomes to great, an _iterative_ appraoch may be better.\n",
    "\n",
    "Another thing to note, especially in Python, is that Python has a default recursion limit set. Try the following:\n"
   ]
  },
  {
   "cell_type": "code",
   "execution_count": 22,
   "metadata": {
    "collapsed": false
   },
   "outputs": [
    {
     "ename": "RuntimeError",
     "evalue": "maximum recursion depth exceeded",
     "output_type": "error",
     "traceback": [
      "\u001b[0;31m---------------------------------------------------------------------------\u001b[0m",
      "\u001b[0;31mRuntimeError\u001b[0m                              Traceback (most recent call last)",
      "\u001b[0;32m<ipython-input-22-f1a08ce12655>\u001b[0m in \u001b[0;36m<module>\u001b[0;34m()\u001b[0m\n\u001b[0;32m----> 1\u001b[0;31m \u001b[0mfactorial\u001b[0m\u001b[0;34m(\u001b[0m\u001b[0;36m999\u001b[0m\u001b[0;34m)\u001b[0m\u001b[0;34m\u001b[0m\u001b[0m\n\u001b[0m",
      "\u001b[0;32m<ipython-input-2-8b81943e532f>\u001b[0m in \u001b[0;36mfactorial\u001b[0;34m(n)\u001b[0m\n\u001b[1;32m      6\u001b[0m     \u001b[0;32mreturn\u001b[0m \u001b[0;36m1\u001b[0m\u001b[0;34m\u001b[0m\u001b[0m\n\u001b[1;32m      7\u001b[0m   \u001b[0;32melse\u001b[0m\u001b[0;34m:\u001b[0m\u001b[0;34m\u001b[0m\u001b[0m\n\u001b[0;32m----> 8\u001b[0;31m     \u001b[0;32mreturn\u001b[0m \u001b[0mn\u001b[0m \u001b[0;34m*\u001b[0m \u001b[0mfactorial\u001b[0m\u001b[0;34m(\u001b[0m\u001b[0mn\u001b[0m \u001b[0;34m-\u001b[0m \u001b[0;36m1\u001b[0m\u001b[0;34m)\u001b[0m\u001b[0;34m\u001b[0m\u001b[0m\n\u001b[0m",
      "... last 1 frames repeated, from the frame below ...\n",
      "\u001b[0;32m<ipython-input-2-8b81943e532f>\u001b[0m in \u001b[0;36mfactorial\u001b[0;34m(n)\u001b[0m\n\u001b[1;32m      6\u001b[0m     \u001b[0;32mreturn\u001b[0m \u001b[0;36m1\u001b[0m\u001b[0;34m\u001b[0m\u001b[0m\n\u001b[1;32m      7\u001b[0m   \u001b[0;32melse\u001b[0m\u001b[0;34m:\u001b[0m\u001b[0;34m\u001b[0m\u001b[0m\n\u001b[0;32m----> 8\u001b[0;31m     \u001b[0;32mreturn\u001b[0m \u001b[0mn\u001b[0m \u001b[0;34m*\u001b[0m \u001b[0mfactorial\u001b[0m\u001b[0;34m(\u001b[0m\u001b[0mn\u001b[0m \u001b[0;34m-\u001b[0m \u001b[0;36m1\u001b[0m\u001b[0;34m)\u001b[0m\u001b[0;34m\u001b[0m\u001b[0m\n\u001b[0m",
      "\u001b[0;31mRuntimeError\u001b[0m: maximum recursion depth exceeded"
     ]
    }
   ],
   "source": [
    "factorial(999)"
   ]
  },
  {
   "cell_type": "markdown",
   "metadata": {},
   "source": [
    "You can find out the recursion limit default value in your python interpreter by doing:"
   ]
  },
  {
   "cell_type": "code",
   "execution_count": 2,
   "metadata": {
    "collapsed": false
   },
   "outputs": [
    {
     "data": {
      "text/plain": [
       "1000"
      ]
     },
     "execution_count": 2,
     "metadata": {},
     "output_type": "execute_result"
    }
   ],
   "source": [
    "import sys\n",
    "\n",
    "sys.getrecursionlimit()"
   ]
  },
  {
   "cell_type": "markdown",
   "metadata": {},
   "source": [
    "And you can change this value with:"
   ]
  },
  {
   "cell_type": "code",
   "execution_count": 3,
   "metadata": {
    "collapsed": false
   },
   "outputs": [],
   "source": [
    "sys.setrecursionlimit(1001)"
   ]
  },
  {
   "cell_type": "markdown",
   "metadata": {},
   "source": [
    "## Non-recursive methods\n",
    "\n",
    "There is no actual need to use a recursive method to solve the factorial, it's just a nice simple example of a problem that _could_ be solved recursively. An iterative (and more efficient) approach would look something like this:"
   ]
  },
  {
   "cell_type": "code",
   "execution_count": 4,
   "metadata": {
    "collapsed": true
   },
   "outputs": [],
   "source": [
    "def factorial_iter(x):\n",
    "    result = 1\n",
    "    for i in xrange(2, x+1):\n",
    "        result *= i\n",
    "    return result"
   ]
  },
  {
   "cell_type": "code",
   "execution_count": 5,
   "metadata": {
    "collapsed": false
   },
   "outputs": [
    {
     "data": {
      "text/plain": [
       "720"
      ]
     },
     "execution_count": 5,
     "metadata": {},
     "output_type": "execute_result"
    }
   ],
   "source": [
    "factorial_iter(6)"
   ]
  },
  {
   "cell_type": "code",
   "execution_count": 9,
   "metadata": {
    "collapsed": false
   },
   "outputs": [
    {
     "data": {
      "text/plain": [
       "720"
      ]
     },
     "execution_count": 9,
     "metadata": {},
     "output_type": "execute_result"
    }
   ],
   "source": [
    "# you could also use a while statement\n",
    "# Though this will not raise an error for negative numbers \n",
    "# in its current implementation\n",
    "def factorial_while(n):\n",
    "    num = 1\n",
    "    while n >= 1:\n",
    "        num = num * n\n",
    "        n = n - 1\n",
    "    return num\n",
    "\n",
    "factorial_while(6)"
   ]
  },
  {
   "cell_type": "code",
   "execution_count": 10,
   "metadata": {
    "collapsed": false
   },
   "outputs": [
    {
     "data": {
      "text/plain": [
       "720"
      ]
     },
     "execution_count": 10,
     "metadata": {},
     "output_type": "execute_result"
    }
   ],
   "source": [
    "# For lambda lovers:\n",
    "def factorial_lambda(n):return reduce(lambda x,y:x*y,[1]+range(1,n+1))\n",
    "\n",
    "factorial_lambda(6)"
   ]
  },
  {
   "cell_type": "markdown",
   "metadata": {},
   "source": [
    "Another method, that will cover large numbers is:"
   ]
  },
  {
   "cell_type": "code",
   "execution_count": 7,
   "metadata": {
    "collapsed": false
   },
   "outputs": [
    {
     "data": {
      "text/plain": [
       "402387260077093773543702433923003985719374864210714632543799910429938512398629020592044208486969404800479988610197196058631666872994808558901323829669944590997424504087073759918823627727188732519779505950995276120874975462497043601418278094646496291056393887437886487337119181045825783647849977012476632889835955735432513185323958463075557409114262417474349347553428646576611667797396668820291207379143853719588249808126867838374559731746136085379534524221586593201928090878297308431392844403281231558611036976801357304216168747609675871348312025478589320767169132448426236131412508780208000261683151027341827977704784635868170164365024153691398281264810213092761244896359928705114964975419909342221566832572080821333186116811553615836546984046708975602900950537616475847728421889679646244945160765353408198901385442487984959953319101723355556602139450399736280750137837615307127761926849034352625200015888535147331611702103968175921510907788019393178114194545257223865541461062892187960223838971476088506276862967146674697562911234082439208160153780889893964518263243671616762179168909779911903754031274622289988005195444414282012187361745992642956581746628302955570299024324153181617210465832036786906117260158783520751516284225540265170483304226143974286933061690897968482590125458327168226458066526769958652682272807075781391858178889652208164348344825993266043367660176999612831860788386150279465955131156552036093988180612138558600301435694527224206344631797460594682573103790084024432438465657245014402821885252470935190620929023136493273497565513958720559654228749774011413346962715422845862377387538230483865688976461927383814900140767310446640259899490222221765904339901886018566526485061799702356193897017860040811889729918311021171229845901641921068884387121855646124960798722908519296819372388642614839657382291123125024186649353143970137428531926649875337218940694281434118520158014123344828015051399694290153483077644569099073152433278288269864602789864321139083506217095002597389863554277196742822248757586765752344220207573630569498825087968928162753848863396909959826280956121450994871701244516461260379029309120889086942028510640182154399457156805941872748998094254742173582401063677404595741785160829230135358081840096996372524230560855903700624271243416909004153690105933983835777939410970027753472000000000000000000000000000000000000000000000000000000000000000000000000000000000000000000000000000000000000000000000000000000000000000000000000000000000000000000000000000000000000000000000000000000000000000000000000000000000000000000000000000000000L"
      ]
     },
     "execution_count": 7,
     "metadata": {},
     "output_type": "execute_result"
    }
   ],
   "source": [
    "from itertools import imap\n",
    "def factorial_map(x):\n",
    "    return reduce(long.__mul__, imap(long, xrange(1, x + 1)))\n",
    "\n",
    "factorial_map(1000)"
   ]
  },
  {
   "cell_type": "markdown",
   "metadata": {},
   "source": [
    "(Note how much faster the above two methods are for large factorials, compared to the recursive function.)"
   ]
  },
  {
   "cell_type": "markdown",
   "metadata": {},
   "source": [
    "And of course, we could just use the builtin math function in Python:"
   ]
  },
  {
   "cell_type": "code",
   "execution_count": 11,
   "metadata": {
    "collapsed": false
   },
   "outputs": [
    {
     "data": {
      "text/plain": [
       "720"
      ]
     },
     "execution_count": 11,
     "metadata": {},
     "output_type": "execute_result"
    }
   ],
   "source": [
    "import math\n",
    "\n",
    "math.factorial(6)"
   ]
  },
  {
   "cell_type": "markdown",
   "metadata": {},
   "source": [
    "## Tail Recursion\n",
    "\n",
    "A recursive call to a function is said to be _tail recursive_ when it is the last statement that will be executed in the body of a function and its return value is not part of an expression. Tail-recursive functions have nothing to do during the unwinding phase. In compiled languages, compilers take advantage of this by automatically generating code to take advantage of this.\n",
    "\n",
    "Unfortunately, this is difficult to demonstrate in Python, since it does not support tail recursion!\n",
    "\n",
    "http://neopythonic.blogspot.co.uk/2009/04/tail-recursion-elimination.html\n",
    "\n",
    "http://neopythonic.blogspot.com.au/2009/04/final-words-on-tail-calls.html\n",
    "\n",
    "http://metapython.blogspot.co.uk/2010/11/tail-recursion-elimination-in-python.html\n",
    "\n",
    "tbc..."
   ]
  }
 ],
 "metadata": {
  "kernelspec": {
   "display_name": "Python 2",
   "language": "python",
   "name": "python2"
  },
  "language_info": {
   "codemirror_mode": {
    "name": "ipython",
    "version": 2
   },
   "file_extension": ".py",
   "mimetype": "text/x-python",
   "name": "python",
   "nbconvert_exporter": "python",
   "pygments_lexer": "ipython2",
   "version": "2.7.13"
  }
 },
 "nbformat": 4,
 "nbformat_minor": 2
}
