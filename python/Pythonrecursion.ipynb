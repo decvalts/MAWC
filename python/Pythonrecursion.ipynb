{
 "cells": [
  {
   "cell_type": "markdown",
   "metadata": {},
   "source": [
    "# Recursion\n",
    "\n",
    "Recursion allows a function or routine to be defined in terms of smaller, _recurring_ instances of itself. Recursive algorithms in computing are implemented as functions that call themselves at some stage during their execution. Each successive call of the function executes a more refined set of arguments or input parameters, bringing us closer and closer to a solution of a computable problem. \n",
    "\n",
    "### Basic Recursion\n",
    "\n",
    "The principle that allows a problem to be defined in terms of smaller and smaller instances of itself. This is implemented in programs with _recursive functions_ - functions that calling themselves until a condition is met (if it is ever met!)\n",
    "\n",
    "### Tail Recursion\n",
    "\n",
    "A form of recursion usually implemented by optimising compilers. Compilers are able to recognise tail recursion in code written by the programmer and optimise it to be a recursive function.\n",
    "\n",
    "## Basic Recursion\n",
    "\n",
    "Compiuting the factorial of a number is a classic example of a potentially recursive algorithm. The factorial of a number _n_ is the product of all the positive integers less than and equal to _n_. So **4!** is 4 x 3 x 2 x 1 = **24**. \n",
    "\n",
    "More formally, this can be written as:\n",
    "\n",
    "n! = (n)(n-1)(n-2)...(1)\n",
    "\n",
    "Another way to look at this is to define n! as the product of smaller factorials. In this way, we can define n! as the product of _n_ and the factorial (_n_-1)!. We can then think of (n-1)! as the product of (n-1) and (n-2)!, and so on, whereby we now have a _recursive_ function. \n",
    "\n",
    "Recursive algorithms have a _winding_ and _unwinding_ phase. In the winding phase, each call to the function makes an additional call to itself, until one of these calls reaches a _terminating condition_. The terminating condition decides when a function should return instead of calling itself again, without returning. In computing the factorial of n, the terminating conditions are n=1 and n=0, where the function would simply return 1. All recursive functions must have at least one terminating condition, otherwise the function would never terminate!\n",
    "\n",
    "Once the winding phase is complete, the unwinding phase begins, where previous instances of the function are revisited in reverse order. This unwinding phase continues until the original function call returns. \n",
    "\n",
    "### Example 1: Compute a factorial recursively\n",
    "\n",
    "\n"
   ]
  },
  {
   "cell_type": "code",
   "execution_count": 2,
   "metadata": {
    "collapsed": true
   },
   "outputs": [],
   "source": [
    "def factorial(n):\n",
    "  \"\"\"Takes a number n, and calculates it's factorial using recursion\"\"\"\n",
    "  if n < 0:\n",
    "    return 0\n",
    "  elif n == 0 or n == 1:\n",
    "    return 1\n",
    "  else:\n",
    "    return n * factorial(n - 1)"
   ]
  },
  {
   "cell_type": "code",
   "execution_count": 2,
   "metadata": {
    "collapsed": false
   },
   "outputs": [
    {
     "data": {
      "text/plain": [
       "720"
      ]
     },
     "execution_count": 2,
     "metadata": {},
     "output_type": "execute_result"
    }
   ],
   "source": [
    "factorial(6)"
   ]
  },
  {
   "cell_type": "code",
   "execution_count": 3,
   "metadata": {
    "collapsed": false
   },
   "outputs": [
    {
     "data": {
      "text/plain": [
       "24"
      ]
     },
     "execution_count": 3,
     "metadata": {},
     "output_type": "execute_result"
    }
   ],
   "source": [
    "factorial(4)"
   ]
  },
  {
   "cell_type": "markdown",
   "metadata": {},
   "source": [
    "...and so on.\n",
    "\n",
    "We can visualise what is happening here with the python package `rcviz` and adding a decorator to the recursive function.\n",
    "\n",
    "_**Note**: due to limitations of the rcviz package, this will not correctly process within the notebook, so I have inserted the code statically and included the resulting image produced from running it in the terminal._"
   ]
  },
  {
   "cell_type": "code",
   "execution_count": null,
   "metadata": {
    "collapsed": false
   },
   "outputs": [],
   "source": [
    "from rcviz import callgraph, viz\n",
    "\n",
    "@viz\n",
    "def factorial(n):\n",
    "  \"\"\"Takes a number n, and calculates it's factorial using recursion\"\"\"\n",
    "  if n < 0:\n",
    "    return 0\n",
    "  elif n == 0 or n == 1:\n",
    "    return 1\n",
    "  else:\n",
    "    return n * factorial(n - 1)\n",
    "\n",
    "factorial(3)\n",
    "callgraph.render(\"factorial.png\")"
   ]
  },
  {
   "cell_type": "markdown",
   "metadata": {
    "collapsed": true
   },
   "source": [
    "![caption](factorial.png)"
   ]
  },
  {
   "cell_type": "markdown",
   "metadata": {},
   "source": [
    "The edges of the callgraph are numbered in order of traversal; with the colour coding being black edges first, grey edges last."
   ]
  },
  {
   "cell_type": "markdown",
   "metadata": {},
   "source": [
    "So what happens when `factorial(4)` is called? Since n is not a terminating condition (0 or 1) we get to the last `else` statement and execute the return. But this return also calls `factorial(n - 1)`, so the function is called again with n=3. This happens again until we get to n=1, where we will get a _terminating condition_ and return 1. The winding phase has now completed and we can pass back up the calling functions with our return values. When we have n=1, we can then evaluate the expression (n)\\*(n - 1)! in the previous call, which is (2)\\*(2-1)!, or just 2. This proceeds back up the graph letting us evaluate the return expressions in turn, each of which had another call to `factorial(n)` and was therefore waiting for return values from recursive function calls. Finally, we will have a return value for the first instance where we called the factorial function recursively, which is (4)\\*(6) = 24. All the functions have returned, and the recursive process is complete."
   ]
  },
  {
   "cell_type": "markdown",
   "metadata": {},
   "source": [
    "In practice however, this is not a particularly good way to solve a factorial. It takes up space in memory to maintian information about every function call until it returns, especially in programs with many recursive calls. If the overhead associated with recursive functions becomes to great, an _iterative_ appraoch may be better.\n",
    "\n",
    "Another thing to note, especially in Python, is that Python has a default recursion limit set. Try the following:\n"
   ]
  },
  {
   "cell_type": "code",
   "execution_count": 22,
   "metadata": {
    "collapsed": false
   },
   "outputs": [
    {
     "ename": "RuntimeError",
     "evalue": "maximum recursion depth exceeded",
     "output_type": "error",
     "traceback": [
      "\u001b[0;31m---------------------------------------------------------------------------\u001b[0m",
      "\u001b[0;31mRuntimeError\u001b[0m                              Traceback (most recent call last)",
      "\u001b[0;32m<ipython-input-22-f1a08ce12655>\u001b[0m in \u001b[0;36m<module>\u001b[0;34m()\u001b[0m\n\u001b[0;32m----> 1\u001b[0;31m \u001b[0mfactorial\u001b[0m\u001b[0;34m(\u001b[0m\u001b[0;36m999\u001b[0m\u001b[0;34m)\u001b[0m\u001b[0;34m\u001b[0m\u001b[0m\n\u001b[0m",
      "\u001b[0;32m<ipython-input-2-8b81943e532f>\u001b[0m in \u001b[0;36mfactorial\u001b[0;34m(n)\u001b[0m\n\u001b[1;32m      6\u001b[0m     \u001b[0;32mreturn\u001b[0m \u001b[0;36m1\u001b[0m\u001b[0;34m\u001b[0m\u001b[0m\n\u001b[1;32m      7\u001b[0m   \u001b[0;32melse\u001b[0m\u001b[0;34m:\u001b[0m\u001b[0;34m\u001b[0m\u001b[0m\n\u001b[0;32m----> 8\u001b[0;31m     \u001b[0;32mreturn\u001b[0m \u001b[0mn\u001b[0m \u001b[0;34m*\u001b[0m \u001b[0mfactorial\u001b[0m\u001b[0;34m(\u001b[0m\u001b[0mn\u001b[0m \u001b[0;34m-\u001b[0m \u001b[0;36m1\u001b[0m\u001b[0;34m)\u001b[0m\u001b[0;34m\u001b[0m\u001b[0m\n\u001b[0m",
      "... last 1 frames repeated, from the frame below ...\n",
      "\u001b[0;32m<ipython-input-2-8b81943e532f>\u001b[0m in \u001b[0;36mfactorial\u001b[0;34m(n)\u001b[0m\n\u001b[1;32m      6\u001b[0m     \u001b[0;32mreturn\u001b[0m \u001b[0;36m1\u001b[0m\u001b[0;34m\u001b[0m\u001b[0m\n\u001b[1;32m      7\u001b[0m   \u001b[0;32melse\u001b[0m\u001b[0;34m:\u001b[0m\u001b[0;34m\u001b[0m\u001b[0m\n\u001b[0;32m----> 8\u001b[0;31m     \u001b[0;32mreturn\u001b[0m \u001b[0mn\u001b[0m \u001b[0;34m*\u001b[0m \u001b[0mfactorial\u001b[0m\u001b[0;34m(\u001b[0m\u001b[0mn\u001b[0m \u001b[0;34m-\u001b[0m \u001b[0;36m1\u001b[0m\u001b[0;34m)\u001b[0m\u001b[0;34m\u001b[0m\u001b[0m\n\u001b[0m",
      "\u001b[0;31mRuntimeError\u001b[0m: maximum recursion depth exceeded"
     ]
    }
   ],
   "source": [
    "factorial(999)"
   ]
  },
  {
   "cell_type": "markdown",
   "metadata": {},
   "source": [
    "You can find out the recursion limit default value in your python interpreter by doing:"
   ]
  },
  {
   "cell_type": "code",
   "execution_count": 23,
   "metadata": {
    "collapsed": false
   },
   "outputs": [
    {
     "data": {
      "text/plain": [
       "1000"
      ]
     },
     "execution_count": 23,
     "metadata": {},
     "output_type": "execute_result"
    }
   ],
   "source": [
    "import sys\n",
    "\n",
    "sys.getrecursionlimit()"
   ]
  },
  {
   "cell_type": "markdown",
   "metadata": {},
   "source": [
    "And you can change this value with:"
   ]
  },
  {
   "cell_type": "code",
   "execution_count": 24,
   "metadata": {
    "collapsed": true
   },
   "outputs": [],
   "source": [
    "sys.setrecursionlimit(1001)"
   ]
  },
  {
   "cell_type": "markdown",
   "metadata": {},
   "source": [
    "## Tail Recursion\n",
    "\n",
    "A recursive call to a function is said to be _tail recursive_ when it is the last statement that will be executed in the body of a function and its return value is not part of an expression. Tail-recursive functions have nothing to do during the unwinding phase. In compiled languages, compilers take advantage of this by automatically generating code to take advantage of this.\n",
    "\n",
    "Unfortunately, this is difficult to demonstrate in Python, since it does not support tail recursion!\n",
    "\n",
    "http://neopythonic.blogspot.co.uk/2009/04/tail-recursion-elimination.html\n",
    "\n",
    "http://neopythonic.blogspot.com.au/2009/04/final-words-on-tail-calls.html\n",
    "\n",
    "http://metapython.blogspot.co.uk/2010/11/tail-recursion-elimination-in-python.html\n",
    "\n",
    "tbc..."
   ]
  },
  {
   "cell_type": "code",
   "execution_count": null,
   "metadata": {
    "collapsed": true
   },
   "outputs": [],
   "source": []
  }
 ],
 "metadata": {
  "kernelspec": {
   "display_name": "Python 2",
   "language": "python",
   "name": "python2"
  },
  "language_info": {
   "codemirror_mode": {
    "name": "ipython",
    "version": 2
   },
   "file_extension": ".py",
   "mimetype": "text/x-python",
   "name": "python",
   "nbconvert_exporter": "python",
   "pygments_lexer": "ipython2",
   "version": "2.7.13"
  }
 },
 "nbformat": 4,
 "nbformat_minor": 2
}
